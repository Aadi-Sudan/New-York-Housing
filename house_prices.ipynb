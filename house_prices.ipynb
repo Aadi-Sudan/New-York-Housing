{
 "cells": [
  {
   "cell_type": "code",
   "execution_count": 592,
   "id": "73592fa8-9f22-4b5f-94b8-7a7786d1bd4a",
   "metadata": {},
   "outputs": [],
   "source": [
    "import pandas as pd\n",
    "import numpy as np\n",
    "import matplotlib.pyplot as plt\n",
    "import matplotlib\n",
    "matplotlib.rcParams[\"figure.figsize\"] = (20,10)"
   ]
  },
  {
   "cell_type": "code",
   "execution_count": 594,
   "id": "5c1250a9-ba91-4ce1-b081-105a5572b44c",
   "metadata": {
    "scrolled": true
   },
   "outputs": [
    {
     "data": {
      "text/html": [
       "<div>\n",
       "<style scoped>\n",
       "    .dataframe tbody tr th:only-of-type {\n",
       "        vertical-align: middle;\n",
       "    }\n",
       "\n",
       "    .dataframe tbody tr th {\n",
       "        vertical-align: top;\n",
       "    }\n",
       "\n",
       "    .dataframe thead th {\n",
       "        text-align: right;\n",
       "    }\n",
       "</style>\n",
       "<table border=\"1\" class=\"dataframe\">\n",
       "  <thead>\n",
       "    <tr style=\"text-align: right;\">\n",
       "      <th></th>\n",
       "      <th>BROKERTITLE</th>\n",
       "      <th>TYPE</th>\n",
       "      <th>PRICE</th>\n",
       "      <th>BEDS</th>\n",
       "      <th>BATH</th>\n",
       "      <th>PROPERTYSQFT</th>\n",
       "      <th>ADDRESS</th>\n",
       "      <th>STATE</th>\n",
       "      <th>MAIN_ADDRESS</th>\n",
       "      <th>ADMINISTRATIVE_AREA_LEVEL_2</th>\n",
       "      <th>LOCALITY</th>\n",
       "      <th>SUBLOCALITY</th>\n",
       "      <th>STREET_NAME</th>\n",
       "      <th>LONG_NAME</th>\n",
       "      <th>FORMATTED_ADDRESS</th>\n",
       "      <th>LATITUDE</th>\n",
       "      <th>LONGITUDE</th>\n",
       "    </tr>\n",
       "  </thead>\n",
       "  <tbody>\n",
       "    <tr>\n",
       "      <th>0</th>\n",
       "      <td>Brokered by Douglas Elliman  -111 Fifth Ave</td>\n",
       "      <td>Condo for sale</td>\n",
       "      <td>315000</td>\n",
       "      <td>2</td>\n",
       "      <td>2.000000</td>\n",
       "      <td>1400.0</td>\n",
       "      <td>2 E 55th St Unit 803</td>\n",
       "      <td>New York, NY 10022</td>\n",
       "      <td>2 E 55th St Unit 803New York, NY 10022</td>\n",
       "      <td>New York County</td>\n",
       "      <td>New York</td>\n",
       "      <td>Manhattan</td>\n",
       "      <td>East 55th Street</td>\n",
       "      <td>Regis Residence</td>\n",
       "      <td>Regis Residence, 2 E 55th St #803, New York, N...</td>\n",
       "      <td>40.761255</td>\n",
       "      <td>-73.974483</td>\n",
       "    </tr>\n",
       "    <tr>\n",
       "      <th>1</th>\n",
       "      <td>Brokered by Serhant</td>\n",
       "      <td>Condo for sale</td>\n",
       "      <td>195000000</td>\n",
       "      <td>7</td>\n",
       "      <td>10.000000</td>\n",
       "      <td>17545.0</td>\n",
       "      <td>Central Park Tower Penthouse-217 W 57th New Yo...</td>\n",
       "      <td>New York, NY 10019</td>\n",
       "      <td>Central Park Tower Penthouse-217 W 57th New Yo...</td>\n",
       "      <td>United States</td>\n",
       "      <td>New York</td>\n",
       "      <td>New York County</td>\n",
       "      <td>New York</td>\n",
       "      <td>West 57th Street</td>\n",
       "      <td>217 W 57th St, New York, NY 10019, USA</td>\n",
       "      <td>40.766393</td>\n",
       "      <td>-73.980991</td>\n",
       "    </tr>\n",
       "    <tr>\n",
       "      <th>2</th>\n",
       "      <td>Brokered by Sowae Corp</td>\n",
       "      <td>House for sale</td>\n",
       "      <td>260000</td>\n",
       "      <td>4</td>\n",
       "      <td>2.000000</td>\n",
       "      <td>2015.0</td>\n",
       "      <td>620 Sinclair Ave</td>\n",
       "      <td>Staten Island, NY 10312</td>\n",
       "      <td>620 Sinclair AveStaten Island, NY 10312</td>\n",
       "      <td>United States</td>\n",
       "      <td>New York</td>\n",
       "      <td>Richmond County</td>\n",
       "      <td>Staten Island</td>\n",
       "      <td>Sinclair Avenue</td>\n",
       "      <td>620 Sinclair Ave, Staten Island, NY 10312, USA</td>\n",
       "      <td>40.541805</td>\n",
       "      <td>-74.196109</td>\n",
       "    </tr>\n",
       "    <tr>\n",
       "      <th>3</th>\n",
       "      <td>Brokered by COMPASS</td>\n",
       "      <td>Condo for sale</td>\n",
       "      <td>69000</td>\n",
       "      <td>3</td>\n",
       "      <td>1.000000</td>\n",
       "      <td>445.0</td>\n",
       "      <td>2 E 55th St Unit 908W33</td>\n",
       "      <td>Manhattan, NY 10022</td>\n",
       "      <td>2 E 55th St Unit 908W33Manhattan, NY 10022</td>\n",
       "      <td>United States</td>\n",
       "      <td>New York</td>\n",
       "      <td>New York County</td>\n",
       "      <td>New York</td>\n",
       "      <td>East 55th Street</td>\n",
       "      <td>2 E 55th St, New York, NY 10022, USA</td>\n",
       "      <td>40.761398</td>\n",
       "      <td>-73.974613</td>\n",
       "    </tr>\n",
       "    <tr>\n",
       "      <th>4</th>\n",
       "      <td>Brokered by Sotheby's International Realty - E...</td>\n",
       "      <td>Townhouse for sale</td>\n",
       "      <td>55000000</td>\n",
       "      <td>7</td>\n",
       "      <td>2.373861</td>\n",
       "      <td>14175.0</td>\n",
       "      <td>5 E 64th St</td>\n",
       "      <td>New York, NY 10065</td>\n",
       "      <td>5 E 64th StNew York, NY 10065</td>\n",
       "      <td>United States</td>\n",
       "      <td>New York</td>\n",
       "      <td>New York County</td>\n",
       "      <td>New York</td>\n",
       "      <td>East 64th Street</td>\n",
       "      <td>5 E 64th St, New York, NY 10065, USA</td>\n",
       "      <td>40.767224</td>\n",
       "      <td>-73.969856</td>\n",
       "    </tr>\n",
       "  </tbody>\n",
       "</table>\n",
       "</div>"
      ],
      "text/plain": [
       "                                         BROKERTITLE                TYPE  \\\n",
       "0        Brokered by Douglas Elliman  -111 Fifth Ave      Condo for sale   \n",
       "1                                Brokered by Serhant      Condo for sale   \n",
       "2                             Brokered by Sowae Corp      House for sale   \n",
       "3                                Brokered by COMPASS      Condo for sale   \n",
       "4  Brokered by Sotheby's International Realty - E...  Townhouse for sale   \n",
       "\n",
       "       PRICE  BEDS       BATH  PROPERTYSQFT  \\\n",
       "0     315000     2   2.000000        1400.0   \n",
       "1  195000000     7  10.000000       17545.0   \n",
       "2     260000     4   2.000000        2015.0   \n",
       "3      69000     3   1.000000         445.0   \n",
       "4   55000000     7   2.373861       14175.0   \n",
       "\n",
       "                                             ADDRESS                    STATE  \\\n",
       "0                               2 E 55th St Unit 803       New York, NY 10022   \n",
       "1  Central Park Tower Penthouse-217 W 57th New Yo...       New York, NY 10019   \n",
       "2                                   620 Sinclair Ave  Staten Island, NY 10312   \n",
       "3                            2 E 55th St Unit 908W33      Manhattan, NY 10022   \n",
       "4                                        5 E 64th St       New York, NY 10065   \n",
       "\n",
       "                                        MAIN_ADDRESS  \\\n",
       "0             2 E 55th St Unit 803New York, NY 10022   \n",
       "1  Central Park Tower Penthouse-217 W 57th New Yo...   \n",
       "2            620 Sinclair AveStaten Island, NY 10312   \n",
       "3         2 E 55th St Unit 908W33Manhattan, NY 10022   \n",
       "4                      5 E 64th StNew York, NY 10065   \n",
       "\n",
       "  ADMINISTRATIVE_AREA_LEVEL_2  LOCALITY      SUBLOCALITY       STREET_NAME  \\\n",
       "0             New York County  New York        Manhattan  East 55th Street   \n",
       "1               United States  New York  New York County          New York   \n",
       "2               United States  New York  Richmond County     Staten Island   \n",
       "3               United States  New York  New York County          New York   \n",
       "4               United States  New York  New York County          New York   \n",
       "\n",
       "          LONG_NAME                                  FORMATTED_ADDRESS  \\\n",
       "0   Regis Residence  Regis Residence, 2 E 55th St #803, New York, N...   \n",
       "1  West 57th Street             217 W 57th St, New York, NY 10019, USA   \n",
       "2   Sinclair Avenue     620 Sinclair Ave, Staten Island, NY 10312, USA   \n",
       "3  East 55th Street               2 E 55th St, New York, NY 10022, USA   \n",
       "4  East 64th Street               5 E 64th St, New York, NY 10065, USA   \n",
       "\n",
       "    LATITUDE  LONGITUDE  \n",
       "0  40.761255 -73.974483  \n",
       "1  40.766393 -73.980991  \n",
       "2  40.541805 -74.196109  \n",
       "3  40.761398 -73.974613  \n",
       "4  40.767224 -73.969856  "
      ]
     },
     "execution_count": 594,
     "metadata": {},
     "output_type": "execute_result"
    }
   ],
   "source": [
    "data = pd.read_csv(\"NY-House-Dataset.csv\")\n",
    "data.head()"
   ]
  },
  {
   "cell_type": "code",
   "execution_count": 596,
   "id": "1fc8ce2a-8cc8-4eb9-bc2d-946e8d13ea3b",
   "metadata": {},
   "outputs": [
    {
     "data": {
      "text/plain": [
       "(4801, 17)"
      ]
     },
     "execution_count": 596,
     "metadata": {},
     "output_type": "execute_result"
    }
   ],
   "source": [
    "data.shape"
   ]
  },
  {
   "cell_type": "code",
   "execution_count": 598,
   "id": "175a1dc3-197b-49ac-ba53-193cbb99e252",
   "metadata": {},
   "outputs": [
    {
     "data": {
      "text/html": [
       "<div>\n",
       "<style scoped>\n",
       "    .dataframe tbody tr th:only-of-type {\n",
       "        vertical-align: middle;\n",
       "    }\n",
       "\n",
       "    .dataframe tbody tr th {\n",
       "        vertical-align: top;\n",
       "    }\n",
       "\n",
       "    .dataframe thead th {\n",
       "        text-align: right;\n",
       "    }\n",
       "</style>\n",
       "<table border=\"1\" class=\"dataframe\">\n",
       "  <thead>\n",
       "    <tr style=\"text-align: right;\">\n",
       "      <th></th>\n",
       "      <th>TYPE</th>\n",
       "      <th>PRICE</th>\n",
       "      <th>BEDS</th>\n",
       "      <th>BATH</th>\n",
       "      <th>PROPERTYSQFT</th>\n",
       "      <th>SUBLOCALITY</th>\n",
       "    </tr>\n",
       "  </thead>\n",
       "  <tbody>\n",
       "    <tr>\n",
       "      <th>0</th>\n",
       "      <td>Condo for sale</td>\n",
       "      <td>315000</td>\n",
       "      <td>2</td>\n",
       "      <td>2.000000</td>\n",
       "      <td>1400.0</td>\n",
       "      <td>Manhattan</td>\n",
       "    </tr>\n",
       "    <tr>\n",
       "      <th>1</th>\n",
       "      <td>Condo for sale</td>\n",
       "      <td>195000000</td>\n",
       "      <td>7</td>\n",
       "      <td>10.000000</td>\n",
       "      <td>17545.0</td>\n",
       "      <td>New York County</td>\n",
       "    </tr>\n",
       "    <tr>\n",
       "      <th>2</th>\n",
       "      <td>House for sale</td>\n",
       "      <td>260000</td>\n",
       "      <td>4</td>\n",
       "      <td>2.000000</td>\n",
       "      <td>2015.0</td>\n",
       "      <td>Richmond County</td>\n",
       "    </tr>\n",
       "    <tr>\n",
       "      <th>3</th>\n",
       "      <td>Condo for sale</td>\n",
       "      <td>69000</td>\n",
       "      <td>3</td>\n",
       "      <td>1.000000</td>\n",
       "      <td>445.0</td>\n",
       "      <td>New York County</td>\n",
       "    </tr>\n",
       "    <tr>\n",
       "      <th>4</th>\n",
       "      <td>Townhouse for sale</td>\n",
       "      <td>55000000</td>\n",
       "      <td>7</td>\n",
       "      <td>2.373861</td>\n",
       "      <td>14175.0</td>\n",
       "      <td>New York County</td>\n",
       "    </tr>\n",
       "  </tbody>\n",
       "</table>\n",
       "</div>"
      ],
      "text/plain": [
       "                 TYPE      PRICE  BEDS       BATH  PROPERTYSQFT  \\\n",
       "0      Condo for sale     315000     2   2.000000        1400.0   \n",
       "1      Condo for sale  195000000     7  10.000000       17545.0   \n",
       "2      House for sale     260000     4   2.000000        2015.0   \n",
       "3      Condo for sale      69000     3   1.000000         445.0   \n",
       "4  Townhouse for sale   55000000     7   2.373861       14175.0   \n",
       "\n",
       "       SUBLOCALITY  \n",
       "0        Manhattan  \n",
       "1  New York County  \n",
       "2  Richmond County  \n",
       "3  New York County  \n",
       "4  New York County  "
      ]
     },
     "execution_count": 598,
     "metadata": {},
     "output_type": "execute_result"
    }
   ],
   "source": [
    "df = data.drop(['STATE', 'ADDRESS', 'MAIN_ADDRESS', 'LONG_NAME', 'STREET_NAME', 'BROKERTITLE', 'LOCALITY', 'ADMINISTRATIVE_AREA_LEVEL_2', 'FORMATTED_ADDRESS', 'LATITUDE', 'LONGITUDE'], axis='columns')\n",
    "df.head()"
   ]
  },
  {
   "cell_type": "code",
   "execution_count": 600,
   "id": "274cc9cb-f256-43e8-a2fd-c2660718e3d9",
   "metadata": {},
   "outputs": [
    {
     "data": {
      "text/plain": [
       "TYPE            0\n",
       "PRICE           0\n",
       "BEDS            0\n",
       "BATH            0\n",
       "PROPERTYSQFT    0\n",
       "SUBLOCALITY     0\n",
       "dtype: int64"
      ]
     },
     "execution_count": 600,
     "metadata": {},
     "output_type": "execute_result"
    }
   ],
   "source": [
    "df.isnull().sum()"
   ]
  },
  {
   "cell_type": "code",
   "execution_count": 602,
   "id": "1527b019-05c8-4000-8869-d1d7ffa201be",
   "metadata": {},
   "outputs": [
    {
     "data": {
      "text/html": [
       "<div>\n",
       "<style scoped>\n",
       "    .dataframe tbody tr th:only-of-type {\n",
       "        vertical-align: middle;\n",
       "    }\n",
       "\n",
       "    .dataframe tbody tr th {\n",
       "        vertical-align: top;\n",
       "    }\n",
       "\n",
       "    .dataframe thead th {\n",
       "        text-align: right;\n",
       "    }\n",
       "</style>\n",
       "<table border=\"1\" class=\"dataframe\">\n",
       "  <thead>\n",
       "    <tr style=\"text-align: right;\">\n",
       "      <th></th>\n",
       "      <th>TYPE</th>\n",
       "      <th>PRICE</th>\n",
       "      <th>BEDS</th>\n",
       "      <th>BATH</th>\n",
       "      <th>PROPERTYSQFT</th>\n",
       "      <th>SUBLOCALITY</th>\n",
       "      <th>price_per_sqft</th>\n",
       "    </tr>\n",
       "  </thead>\n",
       "  <tbody>\n",
       "    <tr>\n",
       "      <th>0</th>\n",
       "      <td>Condo for sale</td>\n",
       "      <td>315000</td>\n",
       "      <td>2</td>\n",
       "      <td>2.000000</td>\n",
       "      <td>1400.0</td>\n",
       "      <td>Manhattan</td>\n",
       "      <td>225.000000</td>\n",
       "    </tr>\n",
       "    <tr>\n",
       "      <th>1</th>\n",
       "      <td>Condo for sale</td>\n",
       "      <td>195000000</td>\n",
       "      <td>7</td>\n",
       "      <td>10.000000</td>\n",
       "      <td>17545.0</td>\n",
       "      <td>New York County</td>\n",
       "      <td>11114.277572</td>\n",
       "    </tr>\n",
       "    <tr>\n",
       "      <th>2</th>\n",
       "      <td>House for sale</td>\n",
       "      <td>260000</td>\n",
       "      <td>4</td>\n",
       "      <td>2.000000</td>\n",
       "      <td>2015.0</td>\n",
       "      <td>Richmond County</td>\n",
       "      <td>129.032258</td>\n",
       "    </tr>\n",
       "    <tr>\n",
       "      <th>3</th>\n",
       "      <td>Condo for sale</td>\n",
       "      <td>69000</td>\n",
       "      <td>3</td>\n",
       "      <td>1.000000</td>\n",
       "      <td>445.0</td>\n",
       "      <td>New York County</td>\n",
       "      <td>155.056180</td>\n",
       "    </tr>\n",
       "    <tr>\n",
       "      <th>4</th>\n",
       "      <td>Townhouse for sale</td>\n",
       "      <td>55000000</td>\n",
       "      <td>7</td>\n",
       "      <td>2.373861</td>\n",
       "      <td>14175.0</td>\n",
       "      <td>New York County</td>\n",
       "      <td>3880.070547</td>\n",
       "    </tr>\n",
       "  </tbody>\n",
       "</table>\n",
       "</div>"
      ],
      "text/plain": [
       "                 TYPE      PRICE  BEDS       BATH  PROPERTYSQFT  \\\n",
       "0      Condo for sale     315000     2   2.000000        1400.0   \n",
       "1      Condo for sale  195000000     7  10.000000       17545.0   \n",
       "2      House for sale     260000     4   2.000000        2015.0   \n",
       "3      Condo for sale      69000     3   1.000000         445.0   \n",
       "4  Townhouse for sale   55000000     7   2.373861       14175.0   \n",
       "\n",
       "       SUBLOCALITY  price_per_sqft  \n",
       "0        Manhattan      225.000000  \n",
       "1  New York County    11114.277572  \n",
       "2  Richmond County      129.032258  \n",
       "3  New York County      155.056180  \n",
       "4  New York County     3880.070547  "
      ]
     },
     "execution_count": 602,
     "metadata": {},
     "output_type": "execute_result"
    }
   ],
   "source": [
    "df['price_per_sqft'] = df['PRICE']/df['PROPERTYSQFT']\n",
    "df.head()"
   ]
  },
  {
   "cell_type": "code",
   "execution_count": 604,
   "id": "b5961441-8102-47f0-a2a6-3ced0e2b3f2e",
   "metadata": {},
   "outputs": [
    {
     "data": {
      "text/plain": [
       "SUBLOCALITY\n",
       "New York            1016\n",
       "Kings County         727\n",
       "Queens County        684\n",
       "Queens               555\n",
       "Richmond County      480\n",
       "Brooklyn             464\n",
       "Bronx County         307\n",
       "New York County      286\n",
       "The Bronx            184\n",
       "Staten Island         59\n",
       "Manhattan             21\n",
       "Flushing               4\n",
       "Riverdale              4\n",
       "Coney Island           3\n",
       "Jackson Heights        1\n",
       "Fort Hamilton          1\n",
       "East Bronx             1\n",
       "Dumbo                  1\n",
       "Rego Park              1\n",
       "Brooklyn Heights       1\n",
       "Snyder Avenue          1\n",
       "Name: SUBLOCALITY, dtype: int64"
      ]
     },
     "execution_count": 604,
     "metadata": {},
     "output_type": "execute_result"
    }
   ],
   "source": [
    "sublocality_stats = df.groupby('SUBLOCALITY')['SUBLOCALITY'].agg('count').sort_values(ascending=False)\n",
    "sublocality_stats"
   ]
  },
  {
   "cell_type": "code",
   "execution_count": 620,
   "id": "ec7ee9be-2460-4966-b525-460717ca3c85",
   "metadata": {},
   "outputs": [
    {
     "data": {
      "text/plain": [
       "BOROUGH\n",
       "Manhattan        1323\n",
       "Queens           1245\n",
       "Brooklyn         1198\n",
       "Staten Island     539\n",
       "The Bronx         496\n",
       "Name: BOROUGH, dtype: int64"
      ]
     },
     "execution_count": 620,
     "metadata": {},
     "output_type": "execute_result"
    }
   ],
   "source": [
    "df['SUBLOCALITY'] = df['SUBLOCALITY'].replace(['New York County', 'New York'], 'Manhattan')\n",
    "df['SUBLOCALITY'] = df['SUBLOCALITY'].replace(['Kings County', 'Coney Island', 'Fort Hamilton', 'Dumbo', 'Brooklyn Heights', 'Snyder Aven'], 'Brooklyn')\n",
    "df['SUBLOCALITY'] = df['SUBLOCALITY'].replace(['Bronx County', 'Riverdale', 'East Bronx'], 'The Bronx')\n",
    "df['SUBLOCALITY'] = df['SUBLOCALITY'].replace(['Richmond County'], 'Staten Island')\n",
    "df['SUBLOCALITY'] = df['SUBLOCALITY'].replace(['Queens County', 'Flushing', 'Jackson Heights', 'Rego Park'], 'Queens')\n",
    "df.rename(columns={'SUBLOCALITY': 'BOROUGH'}, inplace=True)\n",
    "borough_stats = df.groupby('BOROUGH')['BOROUGH'].agg('count').sort_values(ascending=False)\n",
    "borough_stats"
   ]
  },
  {
   "cell_type": "code",
   "execution_count": 622,
   "id": "e4327e43-6694-424f-97f6-7d23659740f0",
   "metadata": {},
   "outputs": [
    {
     "data": {
      "text/plain": [
       "count      4801.000000\n",
       "mean        823.037256\n",
       "std        3302.818910\n",
       "min           1.141833\n",
       "25%         324.027778\n",
       "50%         489.639175\n",
       "75%         822.941176\n",
       "max      214748.364700\n",
       "Name: price_per_sqft, dtype: float64"
      ]
     },
     "execution_count": 622,
     "metadata": {},
     "output_type": "execute_result"
    }
   ],
   "source": [
    "df.price_per_sqft.describe()"
   ]
  },
  {
   "cell_type": "code",
   "execution_count": 914,
   "id": "cb2f1521-9768-4b9a-b46b-3caa1b4ccea9",
   "metadata": {},
   "outputs": [
    {
     "data": {
      "text/plain": [
       "(4549, 7)"
      ]
     },
     "execution_count": 914,
     "metadata": {},
     "output_type": "execute_result"
    }
   ],
   "source": [
    "from scipy import stats\n",
    "\n",
    "def remove_pps_outliers(df):\n",
    "    for col in ['price_per_sqft', 'PROPERTYSQFT']:\n",
    "        df = df.copy()\n",
    "        z_scores = np.abs(stats.zscore(df[col]))\n",
    "        df = df[(z_scores < 3)]  # Using Z-score threshold of 3 for outlier removal\n",
    "    return df\n",
    "df2 = remove_pps_outliers(df) \n",
    "def remove_grouped_outliers(df):\n",
    "    df_out = pd.DataFrame()\n",
    "    for borough, borough_df in df.groupby('BOROUGH'):\n",
    "        for bed, bed_df in borough_df.groupby('BEDS'):\n",
    "            m = np.mean(bed_df.price_per_sqft)\n",
    "            sd = np.std(bed_df.price_per_sqft)\n",
    "            reduced_df = bed_df[(bed_df.price_per_sqft >= (m - 2 * sd)) & (bed_df.price_per_sqft <= (m + 2 * sd))]\n",
    "            df_out = pd.concat([df_out, reduced_df], ignore_index=True)\n",
    "    return df_out\n",
    "df3 = remove_grouped_outliers(df2)\n",
    "df3.shape"
   ]
  },
  {
   "cell_type": "code",
   "execution_count": 916,
   "id": "e7768335-4652-4bc8-b7de-dd42069dcd9c",
   "metadata": {},
   "outputs": [
    {
     "data": {
      "image/png": "[encoded data removed]",
      "text/plain": [
       "<Figure size 1500x1000 with 1 Axes>"
      ]
     },
     "metadata": {},
     "output_type": "display_data"
    }
   ],
   "source": [
    "def plot_scatter(df, borough):\n",
    "    bed2 = df[(df.BOROUGH==borough) & (df.BEDS==2)]\n",
    "    bed3 = df[(df.BOROUGH==borough) & (df.BEDS==3)]\n",
    "    matplotlib.rcParams['figure.figsize'] = (15, 10)\n",
    "    plt.scatter(bed2.PROPERTYSQFT,bed2.price_per_sqft,color='blue', label='2 beds', s=50)\n",
    "    plt.scatter(bed3.PROPERTYSQFT,bed3.price_per_sqft,marker='+',color='green', label='3 beds', s=50)\n",
    "    plt.xlabel(\"Total area in sqft\")\n",
    "    plt.ylabel(\"Price per sqft\")\n",
    "    plt.title(borough)\n",
    "    plt.legend()\n",
    "\n",
    "plot_scatter(df3, \"Manhattan\")"
   ]
  },
  {
   "cell_type": "code",
   "execution_count": 918,
   "id": "32caa2b4-cc3d-4732-85e7-44b59229bba5",
   "metadata": {},
   "outputs": [
    {
     "data": {
      "text/plain": [
       "Text(0, 0.5, 'Count')"
      ]
     },
     "execution_count": 918,
     "metadata": {},
     "output_type": "execute_result"
    },
    {
     "data": {
      "image/png": "[encoded data removed]",
      "text/plain": [
       "<Figure size 2000x1000 with 1 Axes>"
      ]
     },
     "metadata": {},
     "output_type": "display_data"
    }
   ],
   "source": [
    "import matplotlib\n",
    "matplotlib.rcParams[\"figure.figsize\"] = (20, 10)\n",
    "plt.hist(df3.price_per_sqft, rwidth=0.8)\n",
    "plt.xlabel(\"Price per sqft\")\n",
    "plt.ylabel(\"Count\")"
   ]
  },
  {
   "cell_type": "code",
   "execution_count": 920,
   "id": "1b6f83e9-3967-4320-80d9-485643857617",
   "metadata": {},
   "outputs": [
    {
     "data": {
      "text/plain": [
       "(2804, 7)"
      ]
     },
     "execution_count": 920,
     "metadata": {},
     "output_type": "execute_result"
    }
   ],
   "source": [
    "def remove_outliers(df):\n",
    "    exclude_indicies = np.array([])\n",
    "    for borough, borough_df in df.groupby('BOROUGH'):\n",
    "        bed_stats = {}\n",
    "        for bed, bed_df in borough_df.groupby('BEDS'):\n",
    "            bed_stats[bed] = {\n",
    "                'm': np.mean(bed_df.price_per_sqft),\n",
    "                'st': np.std(bed_df.price_per_sqft),\n",
    "                'count': bed_df.shape[0]\n",
    "            }\n",
    "        for bed, bed_df in borough_df.groupby('BEDS'):\n",
    "            stats = bed_stats.get(bed - 1)\n",
    "            if stats and stats['count']>5:\n",
    "                exclude_indicies = np.append(exclude_indicies, bed_df[bed_df.price_per_sqft<(stats['m'])].index.values)\n",
    "    return df.drop(exclude_indicies,axis='index')\n",
    "\n",
    "df4 = remove_outliers(df3)\n",
    "\n",
    "df4.shape"
   ]
  },
  {
   "cell_type": "code",
   "execution_count": 922,
   "id": "f412b27b-1bd5-43ea-9b40-097796d71a56",
   "metadata": {},
   "outputs": [
    {
     "data": {
      "text/plain": [
       "Text(0, 0.5, 'Count')"
      ]
     },
     "execution_count": 922,
     "metadata": {},
     "output_type": "execute_result"
    },
    {
     "data": {
      "image/png": "[encoded data removed]",
      "text/plain": [
       "<Figure size 2000x1000 with 1 Axes>"
      ]
     },
     "metadata": {},
     "output_type": "display_data"
    }
   ],
   "source": [
    "import matplotlib\n",
    "matplotlib.rcParams[\"figure.figsize\"] = (20, 10)\n",
    "plt.hist(df4.price_per_sqft, rwidth=0.8)\n",
    "plt.xlabel(\"Price per sqft\")\n",
    "plt.ylabel(\"Count\")"
   ]
  },
  {
   "cell_type": "code",
   "execution_count": 924,
   "id": "fddf8517-fafd-4357-a12f-3063ac1dd096",
   "metadata": {},
   "outputs": [
    {
     "data": {
      "image/png": "[encoded data removed]",
      "text/plain": [
       "<Figure size 1500x1000 with 1 Axes>"
      ]
     },
     "metadata": {},
     "output_type": "display_data"
    }
   ],
   "source": [
    "plot_scatter(df4, \"Manhattan\")"
   ]
  },
  {
   "cell_type": "code",
   "execution_count": 926,
   "id": "9c52ed67-0a3c-4101-a535-89087d0649a0",
   "metadata": {},
   "outputs": [
    {
     "data": {
      "text/html": [
       "<div>\n",
       "<style scoped>\n",
       "    .dataframe tbody tr th:only-of-type {\n",
       "        vertical-align: middle;\n",
       "    }\n",
       "\n",
       "    .dataframe tbody tr th {\n",
       "        vertical-align: top;\n",
       "    }\n",
       "\n",
       "    .dataframe thead th {\n",
       "        text-align: right;\n",
       "    }\n",
       "</style>\n",
       "<table border=\"1\" class=\"dataframe\">\n",
       "  <thead>\n",
       "    <tr style=\"text-align: right;\">\n",
       "      <th></th>\n",
       "      <th>TYPE</th>\n",
       "      <th>PRICE</th>\n",
       "      <th>BEDS</th>\n",
       "      <th>BATH</th>\n",
       "      <th>PROPERTYSQFT</th>\n",
       "      <th>BOROUGH</th>\n",
       "      <th>price_per_sqft</th>\n",
       "    </tr>\n",
       "  </thead>\n",
       "  <tbody>\n",
       "    <tr>\n",
       "      <th>425</th>\n",
       "      <td>Multi-family home for sale</td>\n",
       "      <td>2295000</td>\n",
       "      <td>3</td>\n",
       "      <td>7.0</td>\n",
       "      <td>2184.207862</td>\n",
       "      <td>Brooklyn</td>\n",
       "      <td>1050.724173</td>\n",
       "    </tr>\n",
       "    <tr>\n",
       "      <th>703</th>\n",
       "      <td>Multi-family home for sale</td>\n",
       "      <td>3400000</td>\n",
       "      <td>3</td>\n",
       "      <td>8.0</td>\n",
       "      <td>2184.207862</td>\n",
       "      <td>Brooklyn</td>\n",
       "      <td>1556.628405</td>\n",
       "    </tr>\n",
       "    <tr>\n",
       "      <th>1798</th>\n",
       "      <td>Townhouse for sale</td>\n",
       "      <td>8950000</td>\n",
       "      <td>3</td>\n",
       "      <td>6.0</td>\n",
       "      <td>6336.000000</td>\n",
       "      <td>Manhattan</td>\n",
       "      <td>1412.563131</td>\n",
       "    </tr>\n",
       "    <tr>\n",
       "      <th>2354</th>\n",
       "      <td>Townhouse for sale</td>\n",
       "      <td>29950000</td>\n",
       "      <td>10</td>\n",
       "      <td>13.0</td>\n",
       "      <td>8750.000000</td>\n",
       "      <td>Manhattan</td>\n",
       "      <td>3422.857143</td>\n",
       "    </tr>\n",
       "  </tbody>\n",
       "</table>\n",
       "</div>"
      ],
      "text/plain": [
       "                            TYPE     PRICE  BEDS  BATH  PROPERTYSQFT  \\\n",
       "425   Multi-family home for sale   2295000     3   7.0   2184.207862   \n",
       "703   Multi-family home for sale   3400000     3   8.0   2184.207862   \n",
       "1798          Townhouse for sale   8950000     3   6.0   6336.000000   \n",
       "2354          Townhouse for sale  29950000    10  13.0   8750.000000   \n",
       "\n",
       "        BOROUGH  price_per_sqft  \n",
       "425    Brooklyn     1050.724173  \n",
       "703    Brooklyn     1556.628405  \n",
       "1798  Manhattan     1412.563131  \n",
       "2354  Manhattan     3422.857143  "
      ]
     },
     "execution_count": 926,
     "metadata": {},
     "output_type": "execute_result"
    }
   ],
   "source": [
    "df4[df4.BATH>df4.BEDS+2]"
   ]
  },
  {
   "cell_type": "code",
   "execution_count": 928,
   "id": "b2878e73-a216-49ce-bfbd-1896796b9c67",
   "metadata": {},
   "outputs": [
    {
     "data": {
      "text/html": [
       "<div>\n",
       "<style scoped>\n",
       "    .dataframe tbody tr th:only-of-type {\n",
       "        vertical-align: middle;\n",
       "    }\n",
       "\n",
       "    .dataframe tbody tr th {\n",
       "        vertical-align: top;\n",
       "    }\n",
       "\n",
       "    .dataframe thead th {\n",
       "        text-align: right;\n",
       "    }\n",
       "</style>\n",
       "<table border=\"1\" class=\"dataframe\">\n",
       "  <thead>\n",
       "    <tr style=\"text-align: right;\">\n",
       "      <th></th>\n",
       "      <th>TYPE</th>\n",
       "      <th>PRICE</th>\n",
       "      <th>BEDS</th>\n",
       "      <th>BATH</th>\n",
       "      <th>PROPERTYSQFT</th>\n",
       "      <th>BOROUGH</th>\n",
       "      <th>price_per_sqft</th>\n",
       "    </tr>\n",
       "  </thead>\n",
       "  <tbody>\n",
       "    <tr>\n",
       "      <th>0</th>\n",
       "      <td>Co-op for sale</td>\n",
       "      <td>279000</td>\n",
       "      <td>1</td>\n",
       "      <td>1.0</td>\n",
       "      <td>750.0</td>\n",
       "      <td>Brooklyn</td>\n",
       "      <td>372.000000</td>\n",
       "    </tr>\n",
       "    <tr>\n",
       "      <th>1</th>\n",
       "      <td>Condo for sale</td>\n",
       "      <td>528000</td>\n",
       "      <td>1</td>\n",
       "      <td>1.0</td>\n",
       "      <td>602.0</td>\n",
       "      <td>Brooklyn</td>\n",
       "      <td>877.076412</td>\n",
       "    </tr>\n",
       "    <tr>\n",
       "      <th>2</th>\n",
       "      <td>Co-op for sale</td>\n",
       "      <td>559500</td>\n",
       "      <td>1</td>\n",
       "      <td>1.0</td>\n",
       "      <td>800.0</td>\n",
       "      <td>Brooklyn</td>\n",
       "      <td>699.375000</td>\n",
       "    </tr>\n",
       "    <tr>\n",
       "      <th>3</th>\n",
       "      <td>Co-op for sale</td>\n",
       "      <td>280000</td>\n",
       "      <td>1</td>\n",
       "      <td>1.0</td>\n",
       "      <td>1000.0</td>\n",
       "      <td>Brooklyn</td>\n",
       "      <td>280.000000</td>\n",
       "    </tr>\n",
       "    <tr>\n",
       "      <th>4</th>\n",
       "      <td>Co-op for sale</td>\n",
       "      <td>288000</td>\n",
       "      <td>1</td>\n",
       "      <td>1.0</td>\n",
       "      <td>845.0</td>\n",
       "      <td>Brooklyn</td>\n",
       "      <td>340.828402</td>\n",
       "    </tr>\n",
       "  </tbody>\n",
       "</table>\n",
       "</div>"
      ],
      "text/plain": [
       "             TYPE   PRICE  BEDS  BATH  PROPERTYSQFT   BOROUGH  price_per_sqft\n",
       "0  Co-op for sale  279000     1   1.0         750.0  Brooklyn      372.000000\n",
       "1  Condo for sale  528000     1   1.0         602.0  Brooklyn      877.076412\n",
       "2  Co-op for sale  559500     1   1.0         800.0  Brooklyn      699.375000\n",
       "3  Co-op for sale  280000     1   1.0        1000.0  Brooklyn      280.000000\n",
       "4  Co-op for sale  288000     1   1.0         845.0  Brooklyn      340.828402"
      ]
     },
     "execution_count": 928,
     "metadata": {},
     "output_type": "execute_result"
    }
   ],
   "source": [
    "df5 = df4[df4.BATH<=df4.BEDS+2]\n",
    "df5.head()"
   ]
  },
  {
   "cell_type": "code",
   "execution_count": 930,
   "id": "238d73c4-a9ac-465a-b4d1-96ec1c743397",
   "metadata": {},
   "outputs": [
    {
     "data": {
      "text/html": [
       "<div>\n",
       "<style scoped>\n",
       "    .dataframe tbody tr th:only-of-type {\n",
       "        vertical-align: middle;\n",
       "    }\n",
       "\n",
       "    .dataframe tbody tr th {\n",
       "        vertical-align: top;\n",
       "    }\n",
       "\n",
       "    .dataframe thead th {\n",
       "        text-align: right;\n",
       "    }\n",
       "</style>\n",
       "<table border=\"1\" class=\"dataframe\">\n",
       "  <thead>\n",
       "    <tr style=\"text-align: right;\">\n",
       "      <th></th>\n",
       "      <th>Brooklyn</th>\n",
       "      <th>Manhattan</th>\n",
       "      <th>Queens</th>\n",
       "      <th>Staten Island</th>\n",
       "      <th>The Bronx</th>\n",
       "    </tr>\n",
       "  </thead>\n",
       "  <tbody>\n",
       "    <tr>\n",
       "      <th>0</th>\n",
       "      <td>1</td>\n",
       "      <td>0</td>\n",
       "      <td>0</td>\n",
       "      <td>0</td>\n",
       "      <td>0</td>\n",
       "    </tr>\n",
       "    <tr>\n",
       "      <th>1</th>\n",
       "      <td>1</td>\n",
       "      <td>0</td>\n",
       "      <td>0</td>\n",
       "      <td>0</td>\n",
       "      <td>0</td>\n",
       "    </tr>\n",
       "    <tr>\n",
       "      <th>2</th>\n",
       "      <td>1</td>\n",
       "      <td>0</td>\n",
       "      <td>0</td>\n",
       "      <td>0</td>\n",
       "      <td>0</td>\n",
       "    </tr>\n",
       "  </tbody>\n",
       "</table>\n",
       "</div>"
      ],
      "text/plain": [
       "   Brooklyn  Manhattan  Queens  Staten Island  The Bronx\n",
       "0         1          0       0              0          0\n",
       "1         1          0       0              0          0\n",
       "2         1          0       0              0          0"
      ]
     },
     "execution_count": 930,
     "metadata": {},
     "output_type": "execute_result"
    }
   ],
   "source": [
    "df6 = df5.drop(['TYPE', 'price_per_sqft'], axis='columns')\n",
    "dummies = pd.get_dummies(df6.BOROUGH).astype(int)\n",
    "dummies.head(3)\n"
   ]
  },
  {
   "cell_type": "code",
   "execution_count": 932,
   "id": "707a8be1-3299-41d5-99fc-9730f8d084c8",
   "metadata": {},
   "outputs": [
    {
     "data": {
      "text/html": [
       "<div>\n",
       "<style scoped>\n",
       "    .dataframe tbody tr th:only-of-type {\n",
       "        vertical-align: middle;\n",
       "    }\n",
       "\n",
       "    .dataframe tbody tr th {\n",
       "        vertical-align: top;\n",
       "    }\n",
       "\n",
       "    .dataframe thead th {\n",
       "        text-align: right;\n",
       "    }\n",
       "</style>\n",
       "<table border=\"1\" class=\"dataframe\">\n",
       "  <thead>\n",
       "    <tr style=\"text-align: right;\">\n",
       "      <th></th>\n",
       "      <th>PRICE</th>\n",
       "      <th>BEDS</th>\n",
       "      <th>BATH</th>\n",
       "      <th>PROPERTYSQFT</th>\n",
       "      <th>BOROUGH</th>\n",
       "      <th>Brooklyn</th>\n",
       "      <th>Manhattan</th>\n",
       "      <th>Queens</th>\n",
       "      <th>Staten Island</th>\n",
       "    </tr>\n",
       "  </thead>\n",
       "  <tbody>\n",
       "    <tr>\n",
       "      <th>0</th>\n",
       "      <td>279000</td>\n",
       "      <td>1</td>\n",
       "      <td>1.0</td>\n",
       "      <td>750.0</td>\n",
       "      <td>Brooklyn</td>\n",
       "      <td>1</td>\n",
       "      <td>0</td>\n",
       "      <td>0</td>\n",
       "      <td>0</td>\n",
       "    </tr>\n",
       "    <tr>\n",
       "      <th>1</th>\n",
       "      <td>528000</td>\n",
       "      <td>1</td>\n",
       "      <td>1.0</td>\n",
       "      <td>602.0</td>\n",
       "      <td>Brooklyn</td>\n",
       "      <td>1</td>\n",
       "      <td>0</td>\n",
       "      <td>0</td>\n",
       "      <td>0</td>\n",
       "    </tr>\n",
       "    <tr>\n",
       "      <th>2</th>\n",
       "      <td>559500</td>\n",
       "      <td>1</td>\n",
       "      <td>1.0</td>\n",
       "      <td>800.0</td>\n",
       "      <td>Brooklyn</td>\n",
       "      <td>1</td>\n",
       "      <td>0</td>\n",
       "      <td>0</td>\n",
       "      <td>0</td>\n",
       "    </tr>\n",
       "    <tr>\n",
       "      <th>3</th>\n",
       "      <td>280000</td>\n",
       "      <td>1</td>\n",
       "      <td>1.0</td>\n",
       "      <td>1000.0</td>\n",
       "      <td>Brooklyn</td>\n",
       "      <td>1</td>\n",
       "      <td>0</td>\n",
       "      <td>0</td>\n",
       "      <td>0</td>\n",
       "    </tr>\n",
       "    <tr>\n",
       "      <th>4</th>\n",
       "      <td>288000</td>\n",
       "      <td>1</td>\n",
       "      <td>1.0</td>\n",
       "      <td>845.0</td>\n",
       "      <td>Brooklyn</td>\n",
       "      <td>1</td>\n",
       "      <td>0</td>\n",
       "      <td>0</td>\n",
       "      <td>0</td>\n",
       "    </tr>\n",
       "  </tbody>\n",
       "</table>\n",
       "</div>"
      ],
      "text/plain": [
       "    PRICE  BEDS  BATH  PROPERTYSQFT   BOROUGH  Brooklyn  Manhattan  Queens  \\\n",
       "0  279000     1   1.0         750.0  Brooklyn         1          0       0   \n",
       "1  528000     1   1.0         602.0  Brooklyn         1          0       0   \n",
       "2  559500     1   1.0         800.0  Brooklyn         1          0       0   \n",
       "3  280000     1   1.0        1000.0  Brooklyn         1          0       0   \n",
       "4  288000     1   1.0         845.0  Brooklyn         1          0       0   \n",
       "\n",
       "   Staten Island  \n",
       "0              0  \n",
       "1              0  \n",
       "2              0  \n",
       "3              0  \n",
       "4              0  "
      ]
     },
     "execution_count": 932,
     "metadata": {},
     "output_type": "execute_result"
    }
   ],
   "source": [
    "df7 = pd.concat([df6, dummies.drop('The Bronx', axis='columns')],axis='columns')\n",
    "df7.head()"
   ]
  },
  {
   "cell_type": "code",
   "execution_count": 934,
   "id": "9df35e57-6e0c-41f5-91be-34a746c67062",
   "metadata": {},
   "outputs": [
    {
     "data": {
      "text/html": [
       "<div>\n",
       "<style scoped>\n",
       "    .dataframe tbody tr th:only-of-type {\n",
       "        vertical-align: middle;\n",
       "    }\n",
       "\n",
       "    .dataframe tbody tr th {\n",
       "        vertical-align: top;\n",
       "    }\n",
       "\n",
       "    .dataframe thead th {\n",
       "        text-align: right;\n",
       "    }\n",
       "</style>\n",
       "<table border=\"1\" class=\"dataframe\">\n",
       "  <thead>\n",
       "    <tr style=\"text-align: right;\">\n",
       "      <th></th>\n",
       "      <th>PRICE</th>\n",
       "      <th>BEDS</th>\n",
       "      <th>BATH</th>\n",
       "      <th>PROPERTYSQFT</th>\n",
       "      <th>Brooklyn</th>\n",
       "      <th>Manhattan</th>\n",
       "      <th>Queens</th>\n",
       "      <th>Staten Island</th>\n",
       "    </tr>\n",
       "  </thead>\n",
       "  <tbody>\n",
       "    <tr>\n",
       "      <th>0</th>\n",
       "      <td>12.538971</td>\n",
       "      <td>1</td>\n",
       "      <td>1.0</td>\n",
       "      <td>750.0</td>\n",
       "      <td>1</td>\n",
       "      <td>0</td>\n",
       "      <td>0</td>\n",
       "      <td>0</td>\n",
       "    </tr>\n",
       "    <tr>\n",
       "      <th>1</th>\n",
       "      <td>13.176853</td>\n",
       "      <td>1</td>\n",
       "      <td>1.0</td>\n",
       "      <td>602.0</td>\n",
       "      <td>1</td>\n",
       "      <td>0</td>\n",
       "      <td>0</td>\n",
       "      <td>0</td>\n",
       "    </tr>\n",
       "    <tr>\n",
       "      <th>2</th>\n",
       "      <td>13.234801</td>\n",
       "      <td>1</td>\n",
       "      <td>1.0</td>\n",
       "      <td>800.0</td>\n",
       "      <td>1</td>\n",
       "      <td>0</td>\n",
       "      <td>0</td>\n",
       "      <td>0</td>\n",
       "    </tr>\n",
       "    <tr>\n",
       "      <th>3</th>\n",
       "      <td>12.542548</td>\n",
       "      <td>1</td>\n",
       "      <td>1.0</td>\n",
       "      <td>1000.0</td>\n",
       "      <td>1</td>\n",
       "      <td>0</td>\n",
       "      <td>0</td>\n",
       "      <td>0</td>\n",
       "    </tr>\n",
       "    <tr>\n",
       "      <th>4</th>\n",
       "      <td>12.570719</td>\n",
       "      <td>1</td>\n",
       "      <td>1.0</td>\n",
       "      <td>845.0</td>\n",
       "      <td>1</td>\n",
       "      <td>0</td>\n",
       "      <td>0</td>\n",
       "      <td>0</td>\n",
       "    </tr>\n",
       "  </tbody>\n",
       "</table>\n",
       "</div>"
      ],
      "text/plain": [
       "       PRICE  BEDS  BATH  PROPERTYSQFT  Brooklyn  Manhattan  Queens  \\\n",
       "0  12.538971     1   1.0         750.0         1          0       0   \n",
       "1  13.176853     1   1.0         602.0         1          0       0   \n",
       "2  13.234801     1   1.0         800.0         1          0       0   \n",
       "3  12.542548     1   1.0        1000.0         1          0       0   \n",
       "4  12.570719     1   1.0         845.0         1          0       0   \n",
       "\n",
       "   Staten Island  \n",
       "0              0  \n",
       "1              0  \n",
       "2              0  \n",
       "3              0  \n",
       "4              0  "
      ]
     },
     "execution_count": 934,
     "metadata": {},
     "output_type": "execute_result"
    }
   ],
   "source": [
    "df8 = df7.drop('BOROUGH',axis='columns')\n",
    "df8['PRICE'] = np.log1p(df8['PRICE'])\n",
    "df8.head()"
   ]
  },
  {
   "cell_type": "code",
   "execution_count": 936,
   "id": "80e56a57-9b52-4b2e-bb80-859192494a9e",
   "metadata": {},
   "outputs": [
    {
     "data": {
      "text/plain": [
       "(2800, 8)"
      ]
     },
     "execution_count": 936,
     "metadata": {},
     "output_type": "execute_result"
    }
   ],
   "source": [
    "df8.shape"
   ]
  },
  {
   "cell_type": "code",
   "execution_count": 1058,
   "id": "dfda7366-294e-4c68-9a22-db15a043a233",
   "metadata": {},
   "outputs": [
    {
     "data": {
      "text/plain": [
       "0.8780765540545473"
      ]
     },
     "execution_count": 1058,
     "metadata": {},
     "output_type": "execute_result"
    }
   ],
   "source": [
    "x = df8.drop('PRICE',axis='columns')\n",
    "y = df8.PRICE\n",
    "\n",
    "from sklearn.model_selection import train_test_split\n",
    "from sklearn.preprocessing import PolynomialFeatures, StandardScaler\n",
    "\n",
    "poly = PolynomialFeatures(degree=3, include_bias=False)\n",
    "x_poly = poly.fit_transform(x)\n",
    "scaler = StandardScaler()\n",
    "x_scaled = scaler.fit_transform(x_poly)\n",
    "x_train, x_test, y_train, y_test = train_test_split(x_scaled, y, test_size=0.2, random_state=10)\n",
    "\n",
    "from sklearn.linear_model import LinearRegression\n",
    "lr_clf = LinearRegression()\n",
    "lr_clf.fit(x_train, y_train)\n",
    "lr_clf.score(x_test, y_test)"
   ]
  },
  {
   "cell_type": "code",
   "execution_count": 1060,
   "id": "a69f7f11-3ca9-47e2-b1fb-6d20646901dd",
   "metadata": {},
   "outputs": [
    {
     "data": {
      "text/plain": [
       "array([0.83435406, 0.89350478, 0.88807972, 0.77997787, 0.86126972])"
      ]
     },
     "execution_count": 1060,
     "metadata": {},
     "output_type": "execute_result"
    }
   ],
   "source": [
    "from sklearn.model_selection import ShuffleSplit\n",
    "from sklearn.model_selection import cross_val_score\n",
    "\n",
    "cv = ShuffleSplit(n_splits=5, test_size=0.2, random_state=0)\n",
    "\n",
    "cross_val_score(LinearRegression(), x_scaled, y, cv=cv)"
   ]
  },
  {
   "cell_type": "code",
   "execution_count": 1088,
   "id": "cd9c5e35-3973-418a-a8c2-ccc8d205b608",
   "metadata": {},
   "outputs": [
    {
     "data": {
      "text/plain": [
       "390566.5309119566"
      ]
     },
     "execution_count": 1088,
     "metadata": {},
     "output_type": "execute_result"
    }
   ],
   "source": [
    "def predict_cost(borough, sqft, num_beds, num_baths):\n",
    "    input_data = pd.DataFrame({\n",
    "        'BEDS': [num_beds],\n",
    "        'BATH': [num_baths],\n",
    "        'PROPERTYSQFT': [sqft],\n",
    "        'Brooklyn': [0],\n",
    "        'Manhattan': [0],\n",
    "        'Queens': [0],\n",
    "        'Staten Island': [0]\n",
    "    })\n",
    "    \n",
    "    if borough == 'Brooklyn':\n",
    "        input_data['Brooklyn'] = 1\n",
    "    elif borough == 'Manhattan':\n",
    "        input_data['Manhattan'] = 1\n",
    "    elif borough == 'Queens':\n",
    "        input_data['Queens'] = 1\n",
    "    elif borough == 'Staten Island':\n",
    "        input_data['Staten Island'] = 1\n",
    "    \n",
    "    expected_columns = ['BEDS', 'BATH', 'PROPERTYSQFT', 'Brooklyn', 'Manhattan', 'Queens', 'Staten Island']\n",
    "    input_data = input_data.reindex(columns=expected_columns, fill_value=0)\n",
    "    \n",
    "    input_poly = poly.transform(input_data)\n",
    "    \n",
    "    input_scaled = scaler.transform(input_poly)\n",
    "    \n",
    "    prediction = lr_clf.predict(input_scaled)\n",
    "    \n",
    "    return np.exp(prediction[0])\n",
    "\n",
    "predict_cost('Brooklyn', 750, 1, 1)"
   ]
  },
  {
   "cell_type": "code",
   "execution_count": 1092,
   "id": "4691836c-177d-480d-a58e-91c22a9b6915",
   "metadata": {},
   "outputs": [],
   "source": [
    "import pickle\n",
    "\n",
    "model_data = {\n",
    "    'model': lr_clf,\n",
    "    'poly': poly,\n",
    "    'scaler': scaler\n",
    "}\n",
    "\n",
    "with open('housing_price_model.pkl', 'wb') as file:\n",
    "    pickle.dump(model_data, file)\n"
   ]
  },
  {
   "cell_type": "code",
   "execution_count": null,
   "id": "444918d2-524c-455c-b2c4-d23d66eaf7d9",
   "metadata": {},
   "outputs": [],
   "source": []
  }
 ],
 "metadata": {
  "kernelspec": {
   "display_name": "Python 3 (ipykernel)",
   "language": "python",
   "name": "python3"
  },
  "language_info": {
   "codemirror_mode": {
    "name": "ipython",
    "version": 3
   },
   "file_extension": ".py",
   "mimetype": "text/x-python",
   "name": "python",
   "nbconvert_exporter": "python",
   "pygments_lexer": "ipython3",
   "version": "3.12.4"
  }
 },
 "nbformat": 4,
 "nbformat_minor": 5
}
